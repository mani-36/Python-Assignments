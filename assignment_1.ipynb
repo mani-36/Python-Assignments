{
 "cells": [
  {
   "cell_type": "code",
   "execution_count": 1,
   "id": "797398cf",
   "metadata": {},
   "outputs": [
    {
     "name": "stdout",
     "output_type": "stream",
     "text": [
      "Sum of element-wise differences: 47\n"
     ]
    }
   ],
   "source": [
    "list_1 = [10, 9, 4, 12, 6, 5, 8, 3, 2, 1]\n",
    "list_2 = [5, 4, 9, 2, 1, 6, 7, 8, 3, 10]\n",
    "\n",
    "diff_sum =0\n",
    "for i in range(len(list_1)):\n",
    "    bigger_num  =  max(list_1[i], list_2[i])\n",
    "    smaller_num =  min(list_1[i], list_2[i])\n",
    "\n",
    "    diff_sum += bigger_num - smaller_num\n",
    "print(\"Sum of element-wise differences:\", diff_sum)"
   ]
  },
  {
   "cell_type": "code",
   "execution_count": null,
   "id": "2b1c689a",
   "metadata": {},
   "outputs": [],
   "source": []
  }
 ],
 "metadata": {
  "kernelspec": {
   "display_name": "Python 3 (ipykernel)",
   "language": "python",
   "name": "python3"
  },
  "language_info": {
   "codemirror_mode": {
    "name": "ipython",
    "version": 3
   },
   "file_extension": ".py",
   "mimetype": "text/x-python",
   "name": "python",
   "nbconvert_exporter": "python",
   "pygments_lexer": "ipython3",
   "version": "3.9.13"
  }
 },
 "nbformat": 4,
 "nbformat_minor": 5
}
