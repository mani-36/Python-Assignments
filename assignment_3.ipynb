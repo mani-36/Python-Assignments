{
 "cells": [
  {
   "cell_type": "code",
   "execution_count": 4,
   "id": "f5726035",
   "metadata": {},
   "outputs": [],
   "source": [
    "def insert_dict_in_index(dict1, index, dict2):\n",
    "    items = list(dict1.items())\n",
    "    items[index:index] = list(dict2.items())\n",
    "    result_dict = dict(items)\n",
    "    return result_dict\n"
   ]
  },
  {
   "cell_type": "code",
   "execution_count": 5,
   "id": "f0d8362b",
   "metadata": {},
   "outputs": [
    {
     "name": "stdout",
     "output_type": "stream",
     "text": [
      "{'a': 2, 'd': 4, 'e': 6, 'f': 8, 'b': 3, 'c': 5}\n"
     ]
    }
   ],
   "source": [
    "dict1 = {'a': 2, 'b': 3, 'c': 5}\n",
    "dict2 = {'d': 4, 'e': 6, 'f':8 }\n",
    "\n",
    "result_dict = insert_dict_in_index(dict1, 1, dict2)\n",
    "print(result_dict)\n"
   ]
  },
  {
   "cell_type": "code",
   "execution_count": null,
   "id": "cb574864",
   "metadata": {},
   "outputs": [],
   "source": []
  }
 ],
 "metadata": {
  "kernelspec": {
   "display_name": "Python 3 (ipykernel)",
   "language": "python",
   "name": "python3"
  },
  "language_info": {
   "codemirror_mode": {
    "name": "ipython",
    "version": 3
   },
   "file_extension": ".py",
   "mimetype": "text/x-python",
   "name": "python",
   "nbconvert_exporter": "python",
   "pygments_lexer": "ipython3",
   "version": "3.9.13"
  }
 },
 "nbformat": 4,
 "nbformat_minor": 5
}
