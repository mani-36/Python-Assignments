{
 "cells": [
  {
   "cell_type": "code",
   "execution_count": 20,
   "id": "6e810325",
   "metadata": {},
   "outputs": [],
   "source": [
    "import statistics\n",
    "\n",
    "def num_arg(*args):\n",
    "    gm=1 \n",
    "    for i in args:\n",
    "        agh = input(\"What you want to calculatge: Arithmetic, Geometric, Harmonic: \")\n",
    "        break\n",
    "    if agh == 'Arithmetic' :\n",
    "        print('Arithmetic mean =',sum(args)/(len(args)))\n",
    "\n",
    "    elif agh == 'Geometric' :\n",
    "        for i in args:\n",
    "              gm=gm*i**(1/len(args))\n",
    "        print('Geometric mean =',gm)\n",
    "              \n",
    "    elif agh == 'Harmonic' :\n",
    "              print('Harmonic mean =',statistics.harmonic_mean(args))\n",
    "    else:\n",
    "        print(\"Invalid Input\")\n",
    "                    "
   ]
  },
  {
   "cell_type": "code",
   "execution_count": 21,
   "id": "246cf5d8",
   "metadata": {},
   "outputs": [
    {
     "name": "stdout",
     "output_type": "stream",
     "text": [
      "What you want to calculatge: Arithmetic, Geometric, Harmonic: Harmonic\n",
      "Harmonic mean = 5.454545454545454\n"
     ]
    }
   ],
   "source": [
    "num_arg(5,6)"
   ]
  },
  {
   "cell_type": "code",
   "execution_count": 22,
   "id": "df1fc661",
   "metadata": {},
   "outputs": [
    {
     "name": "stdout",
     "output_type": "stream",
     "text": [
      "What you want to calculatge: Arithmetic, Geometric, Harmonic: Geometric\n",
      "Geometric mean = 4.898979485566356\n"
     ]
    }
   ],
   "source": [
    "num_arg(4,6)"
   ]
  },
  {
   "cell_type": "code",
   "execution_count": 23,
   "id": "10a7e84a",
   "metadata": {},
   "outputs": [
    {
     "name": "stdout",
     "output_type": "stream",
     "text": [
      "What you want to calculatge: Arithmetic, Geometric, Harmonic: Arithmetic\n",
      "Arithmetic mean = 8.5\n"
     ]
    }
   ],
   "source": [
    "num_arg(8,9)"
   ]
  },
  {
   "cell_type": "code",
   "execution_count": null,
   "id": "6dd1e9ff",
   "metadata": {},
   "outputs": [],
   "source": []
  }
 ],
 "metadata": {
  "kernelspec": {
   "display_name": "Python 3 (ipykernel)",
   "language": "python",
   "name": "python3"
  },
  "language_info": {
   "codemirror_mode": {
    "name": "ipython",
    "version": 3
   },
   "file_extension": ".py",
   "mimetype": "text/x-python",
   "name": "python",
   "nbconvert_exporter": "python",
   "pygments_lexer": "ipython3",
   "version": "3.9.13"
  }
 },
 "nbformat": 4,
 "nbformat_minor": 5
}
